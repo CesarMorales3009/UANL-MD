{
  "nbformat": 4,
  "nbformat_minor": 0,
  "metadata": {
    "colab": {
      "name": "Ej_Phyton_1869864.ipynb",
      "provenance": [],
      "collapsed_sections": [],
      "authorship_tag": "ABX9TyPEWuAbD5GMvHR95eaVWFF0",
      "include_colab_link": true
    },
    "kernelspec": {
      "name": "python3",
      "display_name": "Python 3"
    },
    "language_info": {
      "name": "python"
    }
  },
  "cells": [
    {
      "cell_type": "markdown",
      "metadata": {
        "id": "view-in-github",
        "colab_type": "text"
      },
      "source": [
        "<a href=\"https://colab.research.google.com/github/CesarMorales3009/UANL-MD/blob/main/Ej_Phyton_1869864.ipynb\" target=\"_parent\"><img src=\"https://colab.research.google.com/assets/colab-badge.svg\" alt=\"Open In Colab\"/></a>"
      ]
    },
    {
      "cell_type": "code",
      "metadata": {
        "id": "rtvfgE1PGpMK"
      },
      "source": [
        ""
      ],
      "execution_count": null,
      "outputs": []
    },
    {
      "cell_type": "markdown",
      "metadata": {
        "id": "W-2WbgcBKBvF"
      },
      "source": [
        "# **Ejercicio 1**\n",
        "Realiza una variable con tu matricula y realiza una secuencia de imprimir con tu nombre y tu matricula concatenados"
      ]
    },
    {
      "cell_type": "code",
      "metadata": {
        "id": "IpzU1NkkKlGI"
      },
      "source": [
        "matricula = 1869864 #Matricula \n",
        "print(\"César Alejandro Morales Salazar\", matricula)  "
      ],
      "execution_count": null,
      "outputs": []
    },
    {
      "cell_type": "markdown",
      "metadata": {
        "id": "-8ziLmM6PuQM"
      },
      "source": [
        "# **Ejercicio 2**\n",
        "Pidiendo el imput del usuario pide dos números y crea una pequeña calculadora con los operadores básicos de suma, resta, multiplicación, división y exponente.\n",
        "Utilizando el loop de while\n"
      ]
    },
    {
      "cell_type": "code",
      "metadata": {
        "id": "vJFSGvucSnqn"
      },
      "source": [
        "i = 1\n",
        "while i == 1: #Loop inicial\n",
        "  x = int(input(\"Introduce un número x: \")) #Pedimos el número x\n",
        "  y = int(input(\"Introduce un número y: \")) #Pedimos el número y\n",
        "  print(\"1- Suma 2- Resta 3- Multiplicación 4- División 5- Exponente \") #Menú para el usuario\n",
        "  z = int(input(\"¿Qué deseas realizar?: \")) #Vemos lo que el usuario desea realizar\n",
        "  \n",
        "  #Comienza condicional para realizar la operación deseada\n",
        "  if z == 1: #Suma\n",
        "    w = x+y\n",
        "    print(\"La suma es: \",w)\n",
        "  elif z == 2: #Resta\n",
        "    w = x-y\n",
        "    print(\"La resta es: \",w)\n",
        "  elif z == 3: #Multiplicación\n",
        "    w = x*y\n",
        "    print(\"La multiplicación es: \",w)\n",
        "  elif z == 4: #División\n",
        "    w = x/y\n",
        "    print(\"La división es: \",w)\n",
        "  else: #Exponente\n",
        "    w = x**y\n",
        "    print(\"La exponencial es: \",w)\n",
        "  #Fin del condicional\n",
        "\n",
        "  print(\"¿Deseas realizar otra operación con diferentes números?\") #Vemos si desea realizar otra operación\n",
        "  print(\"1- Si 2-No\") #Menú para el usuario\n",
        "  i = int(input(\"Respuesta: \")) #Vemos lo que el usuario desea realizar"
      ],
      "execution_count": null,
      "outputs": []
    },
    {
      "cell_type": "markdown",
      "metadata": {
        "id": "4zrEPKA-gG05"
      },
      "source": [
        "# **Ejercicio 3**\n",
        "Con loop while o for, realiza una lista de 10 números multiplos de 3, y después realiza una función de loop que sume todos los números dentro del arreglo\n"
      ]
    },
    {
      "cell_type": "code",
      "metadata": {
        "id": "kbs0Rjwehl4C"
      },
      "source": [
        "i = 1 \n",
        "list1 = [] #Creamos la lista vacía para guardar los números\n",
        "\n",
        "while i <= 10: #Función while donde calculamos los multiplos de 3\n",
        "  z = 3*i\n",
        "  list1.append(z)\n",
        "  i = i+1 #Incremento de i\n",
        "\n",
        "i = 0 #Reiniciamos i\n",
        "while i < 10: #Loop para sumar los números dentro del arreglo\n",
        "  #Condicional para saber si es la primera vuelta del loop\n",
        "  if i == 0: #Primera vuelta\n",
        "    x = list1[0]\n",
        "  else: #Vueltas posteriores\n",
        "    x = x + list1[i]\n",
        "  i = i + 1 #Incremento de i\n",
        "\n",
        "print(\"La suma de los multiplos fue: \",x)"
      ],
      "execution_count": null,
      "outputs": []
    },
    {
      "cell_type": "markdown",
      "metadata": {
        "id": "-qQTketP3ZXy"
      },
      "source": [
        "# **Ejercicio 4**\n",
        "\n",
        "\n",
        "*   Con una función de if else revisar si un número es par o impar\n",
        "*   Con una función de if else revisar si un número es primo o no\n",
        "\n"
      ]
    },
    {
      "cell_type": "code",
      "metadata": {
        "id": "humuGgxl303M"
      },
      "source": [
        "x = int(input(\"Número a revisar: \")) #Pedimos el número al usuario\n",
        "\n",
        "z = x%2 #Hacemos la condición para que sea par\n",
        "if z == 0: #Condicional de número par\n",
        "  print(\"El número\",x,\"es par\")\n",
        "else:\n",
        "  print(\"El número\",x,\"no es par\")\n",
        "\n",
        "y=0 #Indicador inicial \n",
        "for n in range(2,x): #For para pasar por todos los números desde el 2 hasta el número del usuario\n",
        "  if x%n == 0: #Condicional para saber si el número es primo o no\n",
        "    y= 1 #Si y es 1 significa que el número no es primo\n",
        "\n",
        "#Condicional para saber que imprimir\n",
        "if y == 0:\n",
        "  print(\"El número\",x,\"es primo\")\n",
        "else:\n",
        "  print(\"El número\",x,\"no es primo\")"
      ],
      "execution_count": null,
      "outputs": []
    },
    {
      "cell_type": "markdown",
      "metadata": {
        "id": "zQGRJTA3-0hy"
      },
      "source": [
        "# **Ejercicio 5**\n",
        "Utilizando diferentes clases en phyton, crea una calculadora con los operadores básicos de suma, resta, multiplicación, división y exponente\n"
      ]
    },
    {
      "cell_type": "code",
      "metadata": {
        "id": "Qkb0p3g3AKI9"
      },
      "source": [
        ""
      ],
      "execution_count": null,
      "outputs": []
    },
    {
      "cell_type": "markdown",
      "metadata": {
        "id": "MnVNJf9fJCbA"
      },
      "source": [
        "# **Tuplas**\n",
        "\n",
        "\n",
        "*   Crear una variable flotante, integer, boleana y compleja e imprimir el tipo de variable que es.\n",
        "*   Crear una tupla con valores enteros imprimir el primer y ultimo valor.\n",
        "*   Añadir 3 valores de string a la tupla.\n",
        "*   Verificar si una variable existe dentro de la tupla.\n",
        "\n",
        "\n",
        "\n"
      ]
    },
    {
      "cell_type": "code",
      "metadata": {
        "id": "hzzeu60sJipC"
      },
      "source": [
        "#Creamos las variables\n",
        "x = 2.4\n",
        "y = 2\n",
        "z = False\n",
        "w = complex(y,x)\n",
        "\n",
        "#Imprimos el tipo de variable\n",
        "print(\"X es:\",type(x))\n",
        "print(\"Y es:\",type(y))\n",
        "print(\"Z es:\",type(z))\n",
        "print(\"W es:\",type(w))\n",
        "\n",
        "# Creando la tupla\n",
        "t1 = (1,2,3,4,5)\n",
        "#Imprimiendo el primer y último valor\n",
        "print(\"Primer valor:\",t1[0])\n",
        "print(\"Último valor:\",t1[-1])\n",
        "\n",
        "#Agregando strings a la tupla\n",
        "t1 = t1.__add__((\"Hola\",\"Mundo\",\"Estrella\"))\n",
        "\n",
        "#Verificando si un valor existe en la dupla\n",
        "a1 = int(input(\"Valor a verificar: \")) #Pedimos el valor\n",
        "#Condicional a1 en la tupla\n",
        "if a1 in t1: \n",
        "  print(\"El valor\",a1,\"si esta en la tupla\")\n",
        "else:\n",
        "  print(\"El valor\",a1,\"no esta en la tupla\")"
      ],
      "execution_count": null,
      "outputs": []
    },
    {
      "cell_type": "markdown",
      "metadata": {
        "id": "lrNpThfrUTBt"
      },
      "source": [
        "# **Listas**\n",
        "\n",
        "\n",
        "*   Crear una lista con 40 elementos aleatorios enteros.\n",
        "*   Con una funcion (def) crear dos listas nuevas a partir de la lista creada por numeros aleatorios, en la cual en una esten los elementos pares, y en la otra los elementos impares.\n",
        "*   Crear dos variables con la longitud de ambas listas nuevas e imprimir las variables.\n",
        "*   Ordenar los elementos de la lista par de mayor a menor, y los de la lista impar de menor a mayor.\n",
        "*   Utilizar al menos cuatro de las funciones de listas en python en la lista original de 40 elementos.\n",
        "\n",
        "\n",
        "\n",
        "\n",
        "\n",
        "\n",
        "\n"
      ]
    },
    {
      "cell_type": "code",
      "metadata": {
        "id": "yM7jLqkWUyQv"
      },
      "source": [
        "#Creación de la lista aleatoria\n",
        "import random #Importamos la biblioteca random https://www.mclibre.org/consultar/python/lecciones/python-biblioteca-random.html\n",
        "list2 =[]\n",
        "for n in range(0,40):\n",
        "  list2.append(random.randrange(10))\n",
        "\n",
        "#Creando las dos listas nuevas https://entrenamiento-python-basico.readthedocs.io/es/latest/leccion5/funciones.html\n",
        "def separacion(a): #Creando la función\n",
        "  pares = [] #Creamos la lista donde iran los pares\n",
        "  impares = [] #Creamos la lista donde iran los impares\n",
        "  for n in a: #For para determinar los pares e impares de la lista\n",
        "    if n%2 == 0: #Condición par\n",
        "      pares.append(n)\n",
        "    else: #Impar\n",
        "      impares.append(n)\n",
        "  print(pares) #Imprimimos lista con pares\n",
        "  print(impares) #Imprimimos lista con impares\n",
        "  #Imprimiendo la longitud de las listas nuevas http://elclubdelautodidacta.es/wp/2011/08/python-capitulo-14-el-total-de-elementos-de-una-lista/\n",
        "  x = len(pares)\n",
        "  y = len(impares)\n",
        "  print(\"Longitud lista pares:\",x)\n",
        "  print(\"Longitud lista impares:\",y)  \n",
        "  #Acomodando los valores de las listas https://j2logo.com/python/ordenar-una-lista-en-python/\n",
        "  pares1 = sorted(pares, reverse=True)\n",
        "  impares1 = sorted(impares)\n",
        "  print(pares1)\n",
        "  print(impares1)\n",
        "\n",
        "separacion(list2)\n",
        "#Utilizando funciones de lista en la lista original\n",
        "list2.append(3)\n",
        "list2.reverse()\n",
        "list2.pop()\n",
        "list2.sort()"
      ],
      "execution_count": null,
      "outputs": []
    },
    {
      "cell_type": "markdown",
      "metadata": {
        "id": "ZkMb0-4_gusT"
      },
      "source": [
        "# **Diccionarios**\n",
        "\n",
        "\n",
        "*   Crear un diccionario de 6 personas que conozcas con su primer nombre y su edad.\n",
        "*   Crear una lista con los valores de la edad y reacomodar la lista de menor a mayor valor.\n",
        "*   Usando el diccionario y un loop, imprimir solo los nombres.\n",
        "*   Añadir dos personas nuevas a tu diccionario, incluyendo edad.\n",
        "\n",
        "\n",
        "\n"
      ]
    },
    {
      "cell_type": "code",
      "metadata": {
        "id": "Jx79DbqThFBD"
      },
      "source": [
        "#Creando el diccionario\n",
        "dict1 = {'Martha' : 47, 'Elias' : 45, 'César' : 20, 'Jorge' : 18, 'Sofia' : 14, 'Myrna' : 60}\n",
        "\n",
        "\n",
        "#Creando la lista con los valores de la edad y acomodando\n",
        "edades = dict1.values()\n",
        "edades = sorted(edades)\n",
        "print(edades)\n",
        "\n",
        "#Imprimiendo nombres\n",
        "for i in dict1:\n",
        "  print(i)\n",
        "\n",
        "#Añadiendo\n",
        "dict1['Monse'] = '20'\n",
        "dict1['Dafne'] = '19'"
      ],
      "execution_count": null,
      "outputs": []
    }
  ]
}